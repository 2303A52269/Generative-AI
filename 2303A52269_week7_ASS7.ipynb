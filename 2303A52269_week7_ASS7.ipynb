{
  "nbformat": 4,
  "nbformat_minor": 0,
  "metadata": {
    "colab": {
      "provenance": [],
      "mount_file_id": "1bLu88LweEmQdRGuz4UUvkPvf0aHYl_FL",
      "authorship_tag": "ABX9TyNLum1mt41M9u5x2e1t0c9T",
      "include_colab_link": true
    },
    "kernelspec": {
      "name": "python3",
      "display_name": "Python 3"
    },
    "language_info": {
      "name": "python"
    }
  },
  "cells": [
    {
      "cell_type": "markdown",
      "metadata": {
        "id": "view-in-github",
        "colab_type": "text"
      },
      "source": [
        "<a href=\"https://colab.research.google.com/github/2303A52269/Generative-AI/blob/main/2303A52269_week7_ASS7.ipynb\" target=\"_parent\"><img src=\"https://colab.research.google.com/assets/colab-badge.svg\" alt=\"Open In Colab\"/></a>"
      ]
    },
    {
      "cell_type": "code",
      "source": [
        "\n",
        "import numpy as np\n",
        "import pandas as pd\n",
        "from keras.models import Sequential\n",
        "from keras.layers import Dense\n",
        "from keras.optimizers import Adadelta\n",
        "from sklearn.model_selection import train_test_split\n",
        "from sklearn.preprocessing import StandardScaler\n",
        "from sklearn.metrics import confusion_matrix, classification_report\n",
        "import matplotlib.pyplot as plt\n",
        "import seaborn as sns\n",
        "\n",
        "# Load the dataset from the URL\n",
        "url = \"/content/Housing.csv\"\n",
        "column_names = [\n",
        "    'Pregnancies', 'Glucose', 'BloodPressure', 'SkinThickness', 'Insulin',\n",
        "    'BMI', 'DiabetesPedigreeFunction', 'Age', 'Outcome'\n",
        "]\n",
        "\n",
        "# Load the dataset into a pandas DataFrame\n",
        "df = pd.read_csv(url, header=None, names=column_names)\n",
        "\n",
        "# Preview the dataset\n",
        "print(df.head())"
      ],
      "metadata": {
        "colab": {
          "base_uri": "https://localhost:8080/"
        },
        "id": "6yrza-9xh81r",
        "outputId": "1468a50c-d50b-4b90-eb05-3676dfb14767"
      },
      "execution_count": 16,
      "outputs": [
        {
          "output_type": "stream",
          "name": "stdout",
          "text": [
            "                                 Pregnancies   Glucose BloodPressure  \\\n",
            "price    area bedrooms bathrooms     stories  mainroad     guestroom   \n",
            "13300000 7420 4        2                   3       yes            no   \n",
            "12250000 8960 4        4                   4       yes            no   \n",
            "         9960 3        2                   2       yes            no   \n",
            "12215000 7500 4        2                   2       yes            no   \n",
            "\n",
            "                                 SkinThickness          Insulin  \\\n",
            "price    area bedrooms bathrooms      basement  hotwaterheating   \n",
            "13300000 7420 4        2                    no               no   \n",
            "12250000 8960 4        4                    no               no   \n",
            "         9960 3        2                   yes               no   \n",
            "12215000 7500 4        2                   yes               no   \n",
            "\n",
            "                                              BMI DiabetesPedigreeFunction  \\\n",
            "price    area bedrooms bathrooms  airconditioning                  parking   \n",
            "13300000 7420 4        2                      yes                        2   \n",
            "12250000 8960 4        4                      yes                        3   \n",
            "         9960 3        2                       no                        2   \n",
            "12215000 7500 4        2                      yes                        3   \n",
            "\n",
            "                                       Age           Outcome  \n",
            "price    area bedrooms bathrooms  prefarea  furnishingstatus  \n",
            "13300000 7420 4        2               yes         furnished  \n",
            "12250000 8960 4        4                no         furnished  \n",
            "         9960 3        2               yes    semi-furnished  \n",
            "12215000 7500 4        2               yes         furnished  \n"
          ]
        }
      ]
    },
    {
      "cell_type": "code",
      "source": [
        "# Features (X) and Target (y)\n",
        "X = df.drop(columns='Outcome')\n",
        "y = df['Outcome']\n",
        "\n",
        "# Convert columns to numeric, handling errors\n",
        "for column in X.columns:\n",
        "    try:\n",
        "        # Apply pd.to_numeric to each element individually\n",
        "        X[column] = X[column].apply(pd.to_numeric, errors='coerce')\n",
        "    except ValueError:\n",
        "        print(f\"Column '{column}' contains non-numeric values. Handling or removing them is recommended.\")\n",
        "        # Here, you can choose to handle the non-numeric values in a way that suits your data:\n",
        "        # 1. Remove rows with non-numeric values:\n",
        "        # X = X[pd.to_numeric(X[column], errors='coerce').notna()]\n",
        "        # 2. Replace non-numeric values with a specific value (e.g., mean, median):\n",
        "        # X[column] = pd.to_numeric(X[column], errors='coerce').fillna(X[column].mean())\n",
        "        # 3. Implement other custom handling logic based on your understanding of the data.\n",
        "\n",
        "    # Impute missing values after conversion\n",
        "    # Choose an appropriate strategy (mean, median, etc.)\n",
        "    X[column] = X[column].fillna(X[column].mean())\n",
        "\n",
        "# Normalize the features using StandardScaler\n",
        "scaler = StandardScaler()\n",
        "X_scaled = scaler.fit_transform(X)\n",
        "\n",
        "# Split the dataset into training and testing sets (80% train, 20% test)\n",
        "X_train, X_test, y_train, y_test = train_test_split(X_scaled, y, test_size=0.2, random_state=42)\n",
        "\n",
        "# Check the shape of the splits\n",
        "print(f'X_train shape: {X_train.shape}, X_test shape: {X_test.shape}')\n",
        ""
      ],
      "metadata": {
        "colab": {
          "base_uri": "https://localhost:8080/"
        },
        "id": "nsdINSmOiFfi",
        "outputId": "babaedaa-0e78-4d93-b8a3-e91082c15797"
      },
      "execution_count": 17,
      "outputs": [
        {
          "output_type": "stream",
          "name": "stdout",
          "text": [
            "X_train shape: (436, 8), X_test shape: (110, 8)\n"
          ]
        },
        {
          "output_type": "stream",
          "name": "stderr",
          "text": [
            "/usr/local/lib/python3.11/dist-packages/sklearn/utils/extmath.py:1101: RuntimeWarning: invalid value encountered in divide\n",
            "  updated_mean = (last_sum + new_sum) / updated_sample_count\n",
            "/usr/local/lib/python3.11/dist-packages/sklearn/utils/extmath.py:1106: RuntimeWarning: invalid value encountered in divide\n",
            "  T = new_sum / new_sample_count\n",
            "/usr/local/lib/python3.11/dist-packages/sklearn/utils/extmath.py:1126: RuntimeWarning: invalid value encountered in divide\n",
            "  new_unnormalized_variance -= correction**2 / new_sample_count\n"
          ]
        }
      ]
    },
    {
      "cell_type": "code",
      "source": [
        "# Create the model\n",
        "model = Sequential()\n",
        "\n",
        "# Adding the hidden layers\n",
        "model.add(Dense(8, input_dim=X_train.shape[1], activation='relu'))  # First hidden layer\n",
        "model.add(Dense(16, activation='relu'))  # Second hidden layer\n",
        "model.add(Dense(20, activation='relu'))  # Third hidden layer\n",
        "model.add(Dense(10, activation='relu'))  # Fourth hidden layer\n",
        "model.add(Dense(1, activation='sigmoid'))  # Output layer (sigmoid for binary classification)\n",
        "\n",
        "# Compile the model\n",
        "model.compile(optimizer=Adadelta(), loss='binary_crossentropy', metrics=['accuracy'])\n",
        "\n",
        "# Summarize the model architecture\n",
        "model.summary()"
      ],
      "metadata": {
        "colab": {
          "base_uri": "https://localhost:8080/",
          "height": 359
        },
        "id": "7o8H_NLjiM0Q",
        "outputId": "acbe8999-ffbe-4bcf-e2bc-c789abc59bf3"
      },
      "execution_count": 18,
      "outputs": [
        {
          "output_type": "stream",
          "name": "stderr",
          "text": [
            "/usr/local/lib/python3.11/dist-packages/keras/src/layers/core/dense.py:87: UserWarning: Do not pass an `input_shape`/`input_dim` argument to a layer. When using Sequential models, prefer using an `Input(shape)` object as the first layer in the model instead.\n",
            "  super().__init__(activity_regularizer=activity_regularizer, **kwargs)\n"
          ]
        },
        {
          "output_type": "display_data",
          "data": {
            "text/plain": [
              "\u001b[1mModel: \"sequential\"\u001b[0m\n"
            ],
            "text/html": [
              "<pre style=\"white-space:pre;overflow-x:auto;line-height:normal;font-family:Menlo,'DejaVu Sans Mono',consolas,'Courier New',monospace\"><span style=\"font-weight: bold\">Model: \"sequential\"</span>\n",
              "</pre>\n"
            ]
          },
          "metadata": {}
        },
        {
          "output_type": "display_data",
          "data": {
            "text/plain": [
              "┏━━━━━━━━━━━━━━━━━━━━━━━━━━━━━━━━━━━━━━┳━━━━━━━━━━━━━━━━━━━━━━━━━━━━━┳━━━━━━━━━━━━━━━━━┓\n",
              "┃\u001b[1m \u001b[0m\u001b[1mLayer (type)                        \u001b[0m\u001b[1m \u001b[0m┃\u001b[1m \u001b[0m\u001b[1mOutput Shape               \u001b[0m\u001b[1m \u001b[0m┃\u001b[1m \u001b[0m\u001b[1m        Param #\u001b[0m\u001b[1m \u001b[0m┃\n",
              "┡━━━━━━━━━━━━━━━━━━━━━━━━━━━━━━━━━━━━━━╇━━━━━━━━━━━━━━━━━━━━━━━━━━━━━╇━━━━━━━━━━━━━━━━━┩\n",
              "│ dense (\u001b[38;5;33mDense\u001b[0m)                        │ (\u001b[38;5;45mNone\u001b[0m, \u001b[38;5;34m8\u001b[0m)                   │              \u001b[38;5;34m72\u001b[0m │\n",
              "├──────────────────────────────────────┼─────────────────────────────┼─────────────────┤\n",
              "│ dense_1 (\u001b[38;5;33mDense\u001b[0m)                      │ (\u001b[38;5;45mNone\u001b[0m, \u001b[38;5;34m16\u001b[0m)                  │             \u001b[38;5;34m144\u001b[0m │\n",
              "├──────────────────────────────────────┼─────────────────────────────┼─────────────────┤\n",
              "│ dense_2 (\u001b[38;5;33mDense\u001b[0m)                      │ (\u001b[38;5;45mNone\u001b[0m, \u001b[38;5;34m20\u001b[0m)                  │             \u001b[38;5;34m340\u001b[0m │\n",
              "├──────────────────────────────────────┼─────────────────────────────┼─────────────────┤\n",
              "│ dense_3 (\u001b[38;5;33mDense\u001b[0m)                      │ (\u001b[38;5;45mNone\u001b[0m, \u001b[38;5;34m10\u001b[0m)                  │             \u001b[38;5;34m210\u001b[0m │\n",
              "├──────────────────────────────────────┼─────────────────────────────┼─────────────────┤\n",
              "│ dense_4 (\u001b[38;5;33mDense\u001b[0m)                      │ (\u001b[38;5;45mNone\u001b[0m, \u001b[38;5;34m1\u001b[0m)                   │              \u001b[38;5;34m11\u001b[0m │\n",
              "└──────────────────────────────────────┴─────────────────────────────┴─────────────────┘\n"
            ],
            "text/html": [
              "<pre style=\"white-space:pre;overflow-x:auto;line-height:normal;font-family:Menlo,'DejaVu Sans Mono',consolas,'Courier New',monospace\">┏━━━━━━━━━━━━━━━━━━━━━━━━━━━━━━━━━━━━━━┳━━━━━━━━━━━━━━━━━━━━━━━━━━━━━┳━━━━━━━━━━━━━━━━━┓\n",
              "┃<span style=\"font-weight: bold\"> Layer (type)                         </span>┃<span style=\"font-weight: bold\"> Output Shape                </span>┃<span style=\"font-weight: bold\">         Param # </span>┃\n",
              "┡━━━━━━━━━━━━━━━━━━━━━━━━━━━━━━━━━━━━━━╇━━━━━━━━━━━━━━━━━━━━━━━━━━━━━╇━━━━━━━━━━━━━━━━━┩\n",
              "│ dense (<span style=\"color: #0087ff; text-decoration-color: #0087ff\">Dense</span>)                        │ (<span style=\"color: #00d7ff; text-decoration-color: #00d7ff\">None</span>, <span style=\"color: #00af00; text-decoration-color: #00af00\">8</span>)                   │              <span style=\"color: #00af00; text-decoration-color: #00af00\">72</span> │\n",
              "├──────────────────────────────────────┼─────────────────────────────┼─────────────────┤\n",
              "│ dense_1 (<span style=\"color: #0087ff; text-decoration-color: #0087ff\">Dense</span>)                      │ (<span style=\"color: #00d7ff; text-decoration-color: #00d7ff\">None</span>, <span style=\"color: #00af00; text-decoration-color: #00af00\">16</span>)                  │             <span style=\"color: #00af00; text-decoration-color: #00af00\">144</span> │\n",
              "├──────────────────────────────────────┼─────────────────────────────┼─────────────────┤\n",
              "│ dense_2 (<span style=\"color: #0087ff; text-decoration-color: #0087ff\">Dense</span>)                      │ (<span style=\"color: #00d7ff; text-decoration-color: #00d7ff\">None</span>, <span style=\"color: #00af00; text-decoration-color: #00af00\">20</span>)                  │             <span style=\"color: #00af00; text-decoration-color: #00af00\">340</span> │\n",
              "├──────────────────────────────────────┼─────────────────────────────┼─────────────────┤\n",
              "│ dense_3 (<span style=\"color: #0087ff; text-decoration-color: #0087ff\">Dense</span>)                      │ (<span style=\"color: #00d7ff; text-decoration-color: #00d7ff\">None</span>, <span style=\"color: #00af00; text-decoration-color: #00af00\">10</span>)                  │             <span style=\"color: #00af00; text-decoration-color: #00af00\">210</span> │\n",
              "├──────────────────────────────────────┼─────────────────────────────┼─────────────────┤\n",
              "│ dense_4 (<span style=\"color: #0087ff; text-decoration-color: #0087ff\">Dense</span>)                      │ (<span style=\"color: #00d7ff; text-decoration-color: #00d7ff\">None</span>, <span style=\"color: #00af00; text-decoration-color: #00af00\">1</span>)                   │              <span style=\"color: #00af00; text-decoration-color: #00af00\">11</span> │\n",
              "└──────────────────────────────────────┴─────────────────────────────┴─────────────────┘\n",
              "</pre>\n"
            ]
          },
          "metadata": {}
        },
        {
          "output_type": "display_data",
          "data": {
            "text/plain": [
              "\u001b[1m Total params: \u001b[0m\u001b[38;5;34m777\u001b[0m (3.04 KB)\n"
            ],
            "text/html": [
              "<pre style=\"white-space:pre;overflow-x:auto;line-height:normal;font-family:Menlo,'DejaVu Sans Mono',consolas,'Courier New',monospace\"><span style=\"font-weight: bold\"> Total params: </span><span style=\"color: #00af00; text-decoration-color: #00af00\">777</span> (3.04 KB)\n",
              "</pre>\n"
            ]
          },
          "metadata": {}
        },
        {
          "output_type": "display_data",
          "data": {
            "text/plain": [
              "\u001b[1m Trainable params: \u001b[0m\u001b[38;5;34m777\u001b[0m (3.04 KB)\n"
            ],
            "text/html": [
              "<pre style=\"white-space:pre;overflow-x:auto;line-height:normal;font-family:Menlo,'DejaVu Sans Mono',consolas,'Courier New',monospace\"><span style=\"font-weight: bold\"> Trainable params: </span><span style=\"color: #00af00; text-decoration-color: #00af00\">777</span> (3.04 KB)\n",
              "</pre>\n"
            ]
          },
          "metadata": {}
        },
        {
          "output_type": "display_data",
          "data": {
            "text/plain": [
              "\u001b[1m Non-trainable params: \u001b[0m\u001b[38;5;34m0\u001b[0m (0.00 B)\n"
            ],
            "text/html": [
              "<pre style=\"white-space:pre;overflow-x:auto;line-height:normal;font-family:Menlo,'DejaVu Sans Mono',consolas,'Courier New',monospace\"><span style=\"font-weight: bold\"> Non-trainable params: </span><span style=\"color: #00af00; text-decoration-color: #00af00\">0</span> (0.00 B)\n",
              "</pre>\n"
            ]
          },
          "metadata": {}
        }
      ]
    },
    {
      "cell_type": "code",
      "source": [
        "# Features (X) and Target (y)\n",
        "X = df.drop(columns='Outcome')\n",
        "y = df['Outcome']\n",
        "\n",
        "# Convert columns to numeric, handling errors\n",
        "for column in X.columns:\n",
        "    try:\n",
        "        # Apply pd.to_numeric to each element individually\n",
        "        X[column] = X[column].apply(pd.to_numeric, errors='coerce')\n",
        "    except ValueError:\n",
        "        print(f\"Column '{column}' contains non-numeric values. Handling or removing them is recommended.\")\n",
        "        # Here, you can choose to handle the non-numeric values in a way that suits your data:\n",
        "        # 1. Remove rows with non-numeric values:\n",
        "        # X = X[pd.to_numeric(X[column], errors='coerce').notna()]\n",
        "        # 2. Replace non-numeric values with a specific value (e.g., mean, median):\n",
        "        # X[column] = pd.to_numeric(X[column], errors='coerce').fillna(X[column].mean())\n",
        "        # 3. Implement other custom handling logic based on your understanding of the data.\n",
        "\n",
        "    # Impute missing values after conversion\n",
        "    # Choose an appropriate strategy (mean, median, etc.)\n",
        "    X[column] = X[column].fillna(X[column].mean())\n",
        "\n",
        "# Convert 'Outcome' column to numeric (int or float)\n",
        "y = pd.to_numeric(y, errors='coerce')\n",
        "# If there are non-numeric values in 'Outcome', you might need to handle them:\n",
        "# For example, replace non-numeric with the most frequent value:\n",
        "# y = y.fillna(y.mode()[0]).astype(int) # Replace with mode and convert to int\n",
        "\n",
        "# Normalize the features using StandardScaler\n",
        "scaler = StandardScaler()\n",
        "X_scaled = scaler.fit_transform(X)\n",
        "\n",
        "# Split the dataset into training and testing sets (80% train, 20% test)\n",
        "X_train, X_test, y_train, y_test = train_test_split(X_scaled, y, test_size=0.2, random_state=42)\n",
        "\n",
        "# Check the shape of the splits\n",
        "print(f'X_train shape: {X_train.shape}, X_test shape: {X_test.shape}')\n",
        ""
      ],
      "metadata": {
        "colab": {
          "base_uri": "https://localhost:8080/"
        },
        "id": "o2JLPznwiR8U",
        "outputId": "f7f2c240-56e2-47f2-ff31-fecf5ed58f28"
      },
      "execution_count": 19,
      "outputs": [
        {
          "output_type": "stream",
          "name": "stdout",
          "text": [
            "X_train shape: (436, 8), X_test shape: (110, 8)\n"
          ]
        },
        {
          "output_type": "stream",
          "name": "stderr",
          "text": [
            "/usr/local/lib/python3.11/dist-packages/sklearn/utils/extmath.py:1101: RuntimeWarning: invalid value encountered in divide\n",
            "  updated_mean = (last_sum + new_sum) / updated_sample_count\n",
            "/usr/local/lib/python3.11/dist-packages/sklearn/utils/extmath.py:1106: RuntimeWarning: invalid value encountered in divide\n",
            "  T = new_sum / new_sample_count\n",
            "/usr/local/lib/python3.11/dist-packages/sklearn/utils/extmath.py:1126: RuntimeWarning: invalid value encountered in divide\n",
            "  new_unnormalized_variance -= correction**2 / new_sample_count\n"
          ]
        }
      ]
    },
    {
      "cell_type": "code",
      "source": [
        "# Features (X) and Target (y)\n",
        "X = df.drop(columns='Outcome')\n",
        "y = df['Outcome']\n",
        "\n",
        "# Convert columns to numeric, handling errors\n",
        "for column in X.columns:\n",
        "    try:\n",
        "        # Apply pd.to_numeric to each element individually\n",
        "        X[column] = X[column].apply(pd.to_numeric, errors='coerce')\n",
        "    except ValueError:\n",
        "        print(f\"Column '{column}' contains non-numeric values. Handling or removing them is recommended.\")\n",
        "        # Here, you can choose to handle the non-numeric values in a way that suits your data:\n",
        "        # 1. Remove rows with non-numeric values:\n",
        "        # X = X[pd.to_numeric(X[column], errors='coerce').notna()]\n",
        "        # 2. Replace non-numeric values with a specific value (e.g., mean, median):\n",
        "        # X[column] = pd.to_numeric(X[column], errors='coerce').fillna(X[column].mean())\n",
        "        # 3. Implement other custom handling logic based on your understanding of the data.\n",
        "\n",
        "    # Impute missing values after conversion\n",
        "    # Choose an appropriate strategy (mean, median, etc.)\n",
        "    X[column] = X[column].fillna(X[column].mean())\n",
        "\n",
        "# Convert 'Outcome' column to numeric (int or float)\n",
        "y = pd.to_numeric(y, errors='coerce')\n",
        "# If there are non-numeric values in 'Outcome', you might need to handle them:\n",
        "# For example, replace non-numeric with the most frequent value:\n",
        "#y = y.fillna(y.mode()[0]).astype(int) # Replace with mode and convert to int\n",
        "\n",
        "#Handle NaN values in 'Outcome' by replacing them with the most frequent value\n",
        "# Check if y.mode() is empty before accessing element 0\n",
        "if not y.mode().empty:\n",
        "    y = y.fillna(y.mode()[0]) # Replace NaN with mode\n",
        "else:\n",
        "    # Handle the case where there is no mode (e.g., all unique values)\n",
        "    # You might want to fill with a different value or strategy\n",
        "    y = y.fillna(y.mean())  # Example: Fill with the mean\n",
        "\n",
        "# Normalize the features using StandardScaler\n",
        "scaler = StandardScaler()\n",
        "X_scaled = scaler.fit_transform(X)\n",
        "\n",
        "# Split the dataset into training and testing sets (80% train, 20% test)\n",
        "X_train, X_test, y_train, y_test = train_test_split(X_scaled, y, test_size=0.2, random_state=42)\n",
        "\n",
        "# Check the shape of the splits\n",
        "print(f'X_train shape: {X_train.shape}, X_test shape: {X_test.shape}')\n",
        "\n"
      ],
      "metadata": {
        "colab": {
          "base_uri": "https://localhost:8080/"
        },
        "id": "Hb2uHCCniWZO",
        "outputId": "126cc995-a22b-461d-98e3-4e11d876d115"
      },
      "execution_count": 20,
      "outputs": [
        {
          "output_type": "stream",
          "name": "stdout",
          "text": [
            "X_train shape: (436, 8), X_test shape: (110, 8)\n"
          ]
        },
        {
          "output_type": "stream",
          "name": "stderr",
          "text": [
            "/usr/local/lib/python3.11/dist-packages/sklearn/utils/extmath.py:1101: RuntimeWarning: invalid value encountered in divide\n",
            "  updated_mean = (last_sum + new_sum) / updated_sample_count\n",
            "/usr/local/lib/python3.11/dist-packages/sklearn/utils/extmath.py:1106: RuntimeWarning: invalid value encountered in divide\n",
            "  T = new_sum / new_sample_count\n",
            "/usr/local/lib/python3.11/dist-packages/sklearn/utils/extmath.py:1126: RuntimeWarning: invalid value encountered in divide\n",
            "  new_unnormalized_variance -= correction**2 / new_sample_count\n"
          ]
        }
      ]
    },
    {
      "cell_type": "code",
      "source": [
        "# Save the trained model\n",
        "model.save('diabetes_model.h5')\n",
        "print(\"Model saved as 'diabetes_model.h5'\")\n"
      ],
      "metadata": {
        "colab": {
          "base_uri": "https://localhost:8080/"
        },
        "id": "3paYirsgiY8x",
        "outputId": "8c95843d-338e-45cf-cb65-b401dce968f3"
      },
      "execution_count": 21,
      "outputs": [
        {
          "output_type": "stream",
          "name": "stderr",
          "text": [
            "WARNING:absl:You are saving your model as an HDF5 file via `model.save()` or `keras.saving.save_model(model)`. This file format is considered legacy. We recommend using instead the native Keras format, e.g. `model.save('my_model.keras')` or `keras.saving.save_model(model, 'my_model.keras')`. \n"
          ]
        },
        {
          "output_type": "stream",
          "name": "stdout",
          "text": [
            "Model saved as 'diabetes_model.h5'\n"
          ]
        }
      ]
    },
    {
      "cell_type": "code",
      "source": [
        "from keras.models import load_model\n",
        "\n",
        "# Load the saved model\n",
        "loaded_model = load_model('diabetes_model.h5')\n",
        "\n",
        "# Make a prediction on a new example (let's use the first row from the test set)\n",
        "new_data = X_test[0].reshape(1, -1)  # Reshape the data to match the input shape\n",
        "prediction = (loaded_model.predict(new_data) > 0.5).astype(int)\n",
        "\n",
        "# Print the prediction result\n",
        "print(f'Prediction: {\"Positive\" if prediction == 1 else \"Negative\"}')\n"
      ],
      "metadata": {
        "colab": {
          "base_uri": "https://localhost:8080/"
        },
        "id": "0MPRb01tikzQ",
        "outputId": "c28d1444-b389-4f12-8a0d-1bc8f9c0577e"
      },
      "execution_count": 22,
      "outputs": [
        {
          "output_type": "stream",
          "name": "stderr",
          "text": [
            "WARNING:absl:Compiled the loaded model, but the compiled metrics have yet to be built. `model.compile_metrics` will be empty until you train or evaluate the model.\n"
          ]
        },
        {
          "output_type": "stream",
          "name": "stdout",
          "text": [
            "\u001b[1m1/1\u001b[0m \u001b[32m━━━━━━━━━━━━━━━━━━━━\u001b[0m\u001b[37m\u001b[0m \u001b[1m0s\u001b[0m 226ms/step\n",
            "Prediction: Negative\n"
          ]
        }
      ]
    }
  ]
}