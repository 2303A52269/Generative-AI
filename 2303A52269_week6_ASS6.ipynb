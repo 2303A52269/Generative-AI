{
  "nbformat": 4,
  "nbformat_minor": 0,
  "metadata": {
    "colab": {
      "provenance": [],
      "authorship_tag": "ABX9TyOeQ/jhAntefSAR9hcpdQhw",
      "include_colab_link": true
    },
    "kernelspec": {
      "name": "python3",
      "display_name": "Python 3"
    },
    "language_info": {
      "name": "python"
    }
  },
  "cells": [
    {
      "cell_type": "markdown",
      "metadata": {
        "id": "view-in-github",
        "colab_type": "text"
      },
      "source": [
        "<a href=\"https://colab.research.google.com/github/2303A52269/Generative-AI/blob/main/2303A52269_week6_ASS6.ipynb\" target=\"_parent\"><img src=\"https://colab.research.google.com/assets/colab-badge.svg\" alt=\"Open In Colab\"/></a>"
      ]
    },
    {
      "cell_type": "code",
      "execution_count": 1,
      "metadata": {
        "id": "ll5tP61_c5fa"
      },
      "outputs": [],
      "source": [
        "import pandas as pd\n",
        "from sklearn.model_selection import train_test_split\n",
        "from sklearn.preprocessing import StandardScaler\n",
        "import numpy as np\n",
        "from sklearn.preprocessing import OneHotEncoder\n",
        "\n",
        "# Load dataset (Assuming CSV format after extracting from Google Drive)\n",
        "url = '/content/Housing (2).csv'  # Replace this with the actual dataset path\n",
        "df = pd.read_csv(url)\n",
        "\n",
        "# Split the dataset into input features and target variable (housing prices)\n",
        "X = df.drop('price', axis=1)  # Assuming 'price' is the target variable\n",
        "y = df['price']\n",
        "\n",
        "# Split the dataset into training and testing sets\n",
        "X_train, X_test, y_train, y_test = train_test_split(X, y, test_size=0.2, random_state=42)\n",
        "\n",
        "# Identify categorical features (columns with object dtype)\n",
        "categorical_features = X_train.select_dtypes(include=['object']).columns\n",
        "\n",
        "# Create and fit OneHotEncoder for categorical features\n",
        "encoder = OneHotEncoder(sparse_output=False, handle_unknown='ignore') # sparse=False for numpy array\n",
        "encoded_features_train = encoder.fit_transform(X_train[categorical_features])\n",
        "encoded_features_test = encoder.transform(X_test[categorical_features])\n",
        "\n",
        "# Create DataFrames for encoded features\n",
        "encoded_df_train = pd.DataFrame(encoded_features_train, columns=encoder.get_feature_names_out(categorical_features), index=X_train.index)\n",
        "encoded_df_test = pd.DataFrame(encoded_features_test, columns=encoder.get_feature_names_out(categorical_features), index=X_test.index)\n",
        "\n",
        "# Drop original categorical columns and concatenate encoded features\n",
        "X_train = X_train.drop(categorical_features, axis=1)\n",
        "X_test = X_test.drop(categorical_features, axis=1)\n",
        "X_train = pd.concat([X_train, encoded_df_train], axis=1)\n",
        "X_test = pd.concat([X_test, encoded_df_test], axis=1)\n",
        "\n",
        "\n",
        "# Normalize the data\n",
        "scaler = StandardScaler()\n",
        "X_train = scaler.fit_transform(X_train)\n",
        "X_test = scaler.transform(X_test)"
      ]
    },
    {
      "cell_type": "code",
      "source": [
        "from tensorflow.keras.models import Sequential\n",
        "from tensorflow.keras.layers import Dense\n",
        "from tensorflow.keras.optimizers import SGD\n",
        "from tensorflow.keras.metrics import MeanSquaredError\n",
        "\n",
        "# Define the ANN model\n",
        "model = Sequential()\n",
        "\n",
        "# Hidden Layer 1\n",
        "model.add(Dense(15, input_dim=X_train.shape[1], activation='tanh'))\n",
        "\n",
        "# Hidden Layer 2\n",
        "model.add(Dense(20, activation='tanh'))\n",
        "\n",
        "# Hidden Layer 3\n",
        "model.add(Dense(15, activation='tanh'))\n",
        "\n",
        "# Output layer (Assuming it's a regression problem, one neuron for price prediction)\n",
        "model.add(Dense(1))\n",
        "\n",
        "# Compile the model\n",
        "model.compile(loss='mean_squared_error',\n",
        "              optimizer=SGD(),\n",
        "              metrics=[MeanSquaredError()])"
      ],
      "metadata": {
        "colab": {
          "base_uri": "https://localhost:8080/"
        },
        "id": "HXMvgYSLdgka",
        "outputId": "563a4263-680a-499e-8b99-c8afe8783529"
      },
      "execution_count": 2,
      "outputs": [
        {
          "output_type": "stream",
          "name": "stderr",
          "text": [
            "/usr/local/lib/python3.11/dist-packages/keras/src/layers/core/dense.py:87: UserWarning: Do not pass an `input_shape`/`input_dim` argument to a layer. When using Sequential models, prefer using an `Input(shape)` object as the first layer in the model instead.\n",
            "  super().__init__(activity_regularizer=activity_regularizer, **kwargs)\n"
          ]
        }
      ]
    },
    {
      "cell_type": "code",
      "source": [
        "# Train the model\n",
        "history = model.fit(X_train, y_train,\n",
        "                    epochs=100,\n",
        "                    batch_size=16,\n",
        "                    validation_data=(X_test, y_test))"
      ],
      "metadata": {
        "colab": {
          "base_uri": "https://localhost:8080/"
        },
        "id": "V70Kxt6edkjS",
        "outputId": "07c304c1-17a0-4ea4-96a0-b778d881690d"
      },
      "execution_count": 3,
      "outputs": [
        {
          "output_type": "stream",
          "name": "stdout",
          "text": [
            "Epoch 1/100\n",
            "\u001b[1m28/28\u001b[0m \u001b[32m━━━━━━━━━━━━━━━━━━━━\u001b[0m\u001b[37m\u001b[0m \u001b[1m1s\u001b[0m 10ms/step - loss: 10482531434496.0000 - mean_squared_error: 10482531434496.0000 - val_loss: 6078684200960.0000 - val_mean_squared_error: 6078684200960.0000\n",
            "Epoch 2/100\n",
            "\u001b[1m28/28\u001b[0m \u001b[32m━━━━━━━━━━━━━━━━━━━━\u001b[0m\u001b[37m\u001b[0m \u001b[1m0s\u001b[0m 5ms/step - loss: 3335107641344.0000 - mean_squared_error: 3335107641344.0000 - val_loss: 5906368561152.0000 - val_mean_squared_error: 5906368561152.0000\n",
            "Epoch 3/100\n",
            "\u001b[1m28/28\u001b[0m \u001b[32m━━━━━━━━━━━━━━━━━━━━\u001b[0m\u001b[37m\u001b[0m \u001b[1m0s\u001b[0m 4ms/step - loss: 3112712011776.0000 - mean_squared_error: 3112712011776.0000 - val_loss: 6364250767360.0000 - val_mean_squared_error: 6364250767360.0000\n",
            "Epoch 4/100\n",
            "\u001b[1m28/28\u001b[0m \u001b[32m━━━━━━━━━━━━━━━━━━━━\u001b[0m\u001b[37m\u001b[0m \u001b[1m0s\u001b[0m 4ms/step - loss: 3105856684032.0000 - mean_squared_error: 3105856684032.0000 - val_loss: 5845630844928.0000 - val_mean_squared_error: 5845630844928.0000\n",
            "Epoch 5/100\n",
            "\u001b[1m28/28\u001b[0m \u001b[32m━━━━━━━━━━━━━━━━━━━━\u001b[0m\u001b[37m\u001b[0m \u001b[1m0s\u001b[0m 4ms/step - loss: 3405223297024.0000 - mean_squared_error: 3405223297024.0000 - val_loss: 5681829117952.0000 - val_mean_squared_error: 5681829117952.0000\n",
            "Epoch 6/100\n",
            "\u001b[1m28/28\u001b[0m \u001b[32m━━━━━━━━━━━━━━━━━━━━\u001b[0m\u001b[37m\u001b[0m \u001b[1m0s\u001b[0m 4ms/step - loss: 3314687410176.0000 - mean_squared_error: 3314687410176.0000 - val_loss: 5462388375552.0000 - val_mean_squared_error: 5462388375552.0000\n",
            "Epoch 7/100\n",
            "\u001b[1m28/28\u001b[0m \u001b[32m━━━━━━━━━━━━━━━━━━━━\u001b[0m\u001b[37m\u001b[0m \u001b[1m0s\u001b[0m 4ms/step - loss: 3258055655424.0000 - mean_squared_error: 3258055655424.0000 - val_loss: 5413382651904.0000 - val_mean_squared_error: 5413382651904.0000\n",
            "Epoch 8/100\n",
            "\u001b[1m28/28\u001b[0m \u001b[32m━━━━━━━━━━━━━━━━━━━━\u001b[0m\u001b[37m\u001b[0m \u001b[1m0s\u001b[0m 5ms/step - loss: 3136777355264.0000 - mean_squared_error: 3136777355264.0000 - val_loss: 5618004918272.0000 - val_mean_squared_error: 5618004918272.0000\n",
            "Epoch 9/100\n",
            "\u001b[1m28/28\u001b[0m \u001b[32m━━━━━━━━━━━━━━━━━━━━\u001b[0m\u001b[37m\u001b[0m \u001b[1m0s\u001b[0m 4ms/step - loss: 3526138265600.0000 - mean_squared_error: 3526138265600.0000 - val_loss: 6097469440000.0000 - val_mean_squared_error: 6097469440000.0000\n",
            "Epoch 10/100\n",
            "\u001b[1m28/28\u001b[0m \u001b[32m━━━━━━━━━━━━━━━━━━━━\u001b[0m\u001b[37m\u001b[0m \u001b[1m0s\u001b[0m 4ms/step - loss: 3274750033920.0000 - mean_squared_error: 3274750033920.0000 - val_loss: 5308608937984.0000 - val_mean_squared_error: 5308608937984.0000\n",
            "Epoch 11/100\n",
            "\u001b[1m28/28\u001b[0m \u001b[32m━━━━━━━━━━━━━━━━━━━━\u001b[0m\u001b[37m\u001b[0m \u001b[1m0s\u001b[0m 4ms/step - loss: 2758714064896.0000 - mean_squared_error: 2758714064896.0000 - val_loss: 5350737575936.0000 - val_mean_squared_error: 5350737575936.0000\n",
            "Epoch 12/100\n",
            "\u001b[1m28/28\u001b[0m \u001b[32m━━━━━━━━━━━━━━━━━━━━\u001b[0m\u001b[37m\u001b[0m \u001b[1m0s\u001b[0m 4ms/step - loss: 2849267777536.0000 - mean_squared_error: 2849267777536.0000 - val_loss: 5255189757952.0000 - val_mean_squared_error: 5255189757952.0000\n",
            "Epoch 13/100\n",
            "\u001b[1m28/28\u001b[0m \u001b[32m━━━━━━━━━━━━━━━━━━━━\u001b[0m\u001b[37m\u001b[0m \u001b[1m0s\u001b[0m 4ms/step - loss: 3001316540416.0000 - mean_squared_error: 3001316540416.0000 - val_loss: 5338147323904.0000 - val_mean_squared_error: 5338147323904.0000\n",
            "Epoch 14/100\n",
            "\u001b[1m28/28\u001b[0m \u001b[32m━━━━━━━━━━━━━━━━━━━━\u001b[0m\u001b[37m\u001b[0m \u001b[1m0s\u001b[0m 5ms/step - loss: 3218320392192.0000 - mean_squared_error: 3218320392192.0000 - val_loss: 5211317862400.0000 - val_mean_squared_error: 5211317862400.0000\n",
            "Epoch 15/100\n",
            "\u001b[1m28/28\u001b[0m \u001b[32m━━━━━━━━━━━━━━━━━━━━\u001b[0m\u001b[37m\u001b[0m \u001b[1m0s\u001b[0m 5ms/step - loss: 3134437982208.0000 - mean_squared_error: 3134437982208.0000 - val_loss: 5165760905216.0000 - val_mean_squared_error: 5165760905216.0000\n",
            "Epoch 16/100\n",
            "\u001b[1m28/28\u001b[0m \u001b[32m━━━━━━━━━━━━━━━━━━━━\u001b[0m\u001b[37m\u001b[0m \u001b[1m0s\u001b[0m 5ms/step - loss: 2963628097536.0000 - mean_squared_error: 2963628097536.0000 - val_loss: 5148617211904.0000 - val_mean_squared_error: 5148617211904.0000\n",
            "Epoch 17/100\n",
            "\u001b[1m28/28\u001b[0m \u001b[32m━━━━━━━━━━━━━━━━━━━━\u001b[0m\u001b[37m\u001b[0m \u001b[1m0s\u001b[0m 4ms/step - loss: 3136465403904.0000 - mean_squared_error: 3136465403904.0000 - val_loss: 5592452694016.0000 - val_mean_squared_error: 5592452694016.0000\n",
            "Epoch 18/100\n",
            "\u001b[1m28/28\u001b[0m \u001b[32m━━━━━━━━━━━━━━━━━━━━\u001b[0m\u001b[37m\u001b[0m \u001b[1m0s\u001b[0m 4ms/step - loss: 3373804027904.0000 - mean_squared_error: 3373804027904.0000 - val_loss: 5723009318912.0000 - val_mean_squared_error: 5723009318912.0000\n",
            "Epoch 19/100\n",
            "\u001b[1m28/28\u001b[0m \u001b[32m━━━━━━━━━━━━━━━━━━━━\u001b[0m\u001b[37m\u001b[0m \u001b[1m0s\u001b[0m 4ms/step - loss: 2911181209600.0000 - mean_squared_error: 2911181209600.0000 - val_loss: 5125867307008.0000 - val_mean_squared_error: 5125867307008.0000\n",
            "Epoch 20/100\n",
            "\u001b[1m28/28\u001b[0m \u001b[32m━━━━━━━━━━━━━━━━━━━━\u001b[0m\u001b[37m\u001b[0m \u001b[1m0s\u001b[0m 4ms/step - loss: 3270889439232.0000 - mean_squared_error: 3270889439232.0000 - val_loss: 5207390420992.0000 - val_mean_squared_error: 5207390420992.0000\n",
            "Epoch 21/100\n",
            "\u001b[1m28/28\u001b[0m \u001b[32m━━━━━━━━━━━━━━━━━━━━\u001b[0m\u001b[37m\u001b[0m \u001b[1m0s\u001b[0m 5ms/step - loss: 3250207588352.0000 - mean_squared_error: 3250207588352.0000 - val_loss: 5425461198848.0000 - val_mean_squared_error: 5425461198848.0000\n",
            "Epoch 22/100\n",
            "\u001b[1m28/28\u001b[0m \u001b[32m━━━━━━━━━━━━━━━━━━━━\u001b[0m\u001b[37m\u001b[0m \u001b[1m0s\u001b[0m 4ms/step - loss: 2833857118208.0000 - mean_squared_error: 2833857118208.0000 - val_loss: 5342014996480.0000 - val_mean_squared_error: 5342014996480.0000\n",
            "Epoch 23/100\n",
            "\u001b[1m28/28\u001b[0m \u001b[32m━━━━━━━━━━━━━━━━━━━━\u001b[0m\u001b[37m\u001b[0m \u001b[1m0s\u001b[0m 5ms/step - loss: 2794401562624.0000 - mean_squared_error: 2794401562624.0000 - val_loss: 5237094481920.0000 - val_mean_squared_error: 5237094481920.0000\n",
            "Epoch 24/100\n",
            "\u001b[1m28/28\u001b[0m \u001b[32m━━━━━━━━━━━━━━━━━━━━\u001b[0m\u001b[37m\u001b[0m \u001b[1m0s\u001b[0m 4ms/step - loss: 3199987089408.0000 - mean_squared_error: 3199987089408.0000 - val_loss: 5121960837120.0000 - val_mean_squared_error: 5121960837120.0000\n",
            "Epoch 25/100\n",
            "\u001b[1m28/28\u001b[0m \u001b[32m━━━━━━━━━━━━━━━━━━━━\u001b[0m\u001b[37m\u001b[0m \u001b[1m0s\u001b[0m 4ms/step - loss: 3179110989824.0000 - mean_squared_error: 3179110989824.0000 - val_loss: 5431456432128.0000 - val_mean_squared_error: 5431456432128.0000\n",
            "Epoch 26/100\n",
            "\u001b[1m28/28\u001b[0m \u001b[32m━━━━━━━━━━━━━━━━━━━━\u001b[0m\u001b[37m\u001b[0m \u001b[1m0s\u001b[0m 4ms/step - loss: 3504765927424.0000 - mean_squared_error: 3504765927424.0000 - val_loss: 5691357003776.0000 - val_mean_squared_error: 5691357003776.0000\n",
            "Epoch 27/100\n",
            "\u001b[1m28/28\u001b[0m \u001b[32m━━━━━━━━━━━━━━━━━━━━\u001b[0m\u001b[37m\u001b[0m \u001b[1m0s\u001b[0m 7ms/step - loss: 2916897521664.0000 - mean_squared_error: 2916897521664.0000 - val_loss: 5541813288960.0000 - val_mean_squared_error: 5541813288960.0000\n",
            "Epoch 28/100\n",
            "\u001b[1m28/28\u001b[0m \u001b[32m━━━━━━━━━━━━━━━━━━━━\u001b[0m\u001b[37m\u001b[0m \u001b[1m0s\u001b[0m 7ms/step - loss: 3011469639680.0000 - mean_squared_error: 3011469639680.0000 - val_loss: 5055515197440.0000 - val_mean_squared_error: 5055515197440.0000\n",
            "Epoch 29/100\n",
            "\u001b[1m28/28\u001b[0m \u001b[32m━━━━━━━━━━━━━━━━━━━━\u001b[0m\u001b[37m\u001b[0m \u001b[1m0s\u001b[0m 6ms/step - loss: 3038871552000.0000 - mean_squared_error: 3038871552000.0000 - val_loss: 5059435298816.0000 - val_mean_squared_error: 5059435298816.0000\n",
            "Epoch 30/100\n",
            "\u001b[1m28/28\u001b[0m \u001b[32m━━━━━━━━━━━━━━━━━━━━\u001b[0m\u001b[37m\u001b[0m \u001b[1m0s\u001b[0m 6ms/step - loss: 3697394319360.0000 - mean_squared_error: 3697394319360.0000 - val_loss: 5153783021568.0000 - val_mean_squared_error: 5153783021568.0000\n",
            "Epoch 31/100\n",
            "\u001b[1m28/28\u001b[0m \u001b[32m━━━━━━━━━━━━━━━━━━━━\u001b[0m\u001b[37m\u001b[0m \u001b[1m0s\u001b[0m 8ms/step - loss: 3176976089088.0000 - mean_squared_error: 3176976089088.0000 - val_loss: 5142627221504.0000 - val_mean_squared_error: 5142627221504.0000\n",
            "Epoch 32/100\n",
            "\u001b[1m28/28\u001b[0m \u001b[32m━━━━━━━━━━━━━━━━━━━━\u001b[0m\u001b[37m\u001b[0m \u001b[1m0s\u001b[0m 7ms/step - loss: 2946342322176.0000 - mean_squared_error: 2946342322176.0000 - val_loss: 5243942207488.0000 - val_mean_squared_error: 5243942207488.0000\n",
            "Epoch 33/100\n",
            "\u001b[1m28/28\u001b[0m \u001b[32m━━━━━━━━━━━━━━━━━━━━\u001b[0m\u001b[37m\u001b[0m \u001b[1m0s\u001b[0m 7ms/step - loss: 2898786779136.0000 - mean_squared_error: 2898786779136.0000 - val_loss: 5046029254656.0000 - val_mean_squared_error: 5046029254656.0000\n",
            "Epoch 34/100\n",
            "\u001b[1m28/28\u001b[0m \u001b[32m━━━━━━━━━━━━━━━━━━━━\u001b[0m\u001b[37m\u001b[0m \u001b[1m0s\u001b[0m 4ms/step - loss: 3149307838464.0000 - mean_squared_error: 3149307838464.0000 - val_loss: 5242135511040.0000 - val_mean_squared_error: 5242135511040.0000\n",
            "Epoch 35/100\n",
            "\u001b[1m28/28\u001b[0m \u001b[32m━━━━━━━━━━━━━━━━━━━━\u001b[0m\u001b[37m\u001b[0m \u001b[1m0s\u001b[0m 4ms/step - loss: 2941712072704.0000 - mean_squared_error: 2941712072704.0000 - val_loss: 5820954705920.0000 - val_mean_squared_error: 5820954705920.0000\n",
            "Epoch 36/100\n",
            "\u001b[1m28/28\u001b[0m \u001b[32m━━━━━━━━━━━━━━━━━━━━\u001b[0m\u001b[37m\u001b[0m \u001b[1m0s\u001b[0m 4ms/step - loss: 3283963346944.0000 - mean_squared_error: 3283963346944.0000 - val_loss: 5172603912192.0000 - val_mean_squared_error: 5172603912192.0000\n",
            "Epoch 37/100\n",
            "\u001b[1m28/28\u001b[0m \u001b[32m━━━━━━━━━━━━━━━━━━━━\u001b[0m\u001b[37m\u001b[0m \u001b[1m0s\u001b[0m 5ms/step - loss: 3208823963648.0000 - mean_squared_error: 3208823963648.0000 - val_loss: 5379544580096.0000 - val_mean_squared_error: 5379544580096.0000\n",
            "Epoch 38/100\n",
            "\u001b[1m28/28\u001b[0m \u001b[32m━━━━━━━━━━━━━━━━━━━━\u001b[0m\u001b[37m\u001b[0m \u001b[1m0s\u001b[0m 4ms/step - loss: 3048741273600.0000 - mean_squared_error: 3048741273600.0000 - val_loss: 5125749342208.0000 - val_mean_squared_error: 5125749342208.0000\n",
            "Epoch 39/100\n",
            "\u001b[1m28/28\u001b[0m \u001b[32m━━━━━━━━━━━━━━━━━━━━\u001b[0m\u001b[37m\u001b[0m \u001b[1m0s\u001b[0m 4ms/step - loss: 2843691974656.0000 - mean_squared_error: 2843691974656.0000 - val_loss: 5189750751232.0000 - val_mean_squared_error: 5189750751232.0000\n",
            "Epoch 40/100\n",
            "\u001b[1m28/28\u001b[0m \u001b[32m━━━━━━━━━━━━━━━━━━━━\u001b[0m\u001b[37m\u001b[0m \u001b[1m0s\u001b[0m 4ms/step - loss: 3481308495872.0000 - mean_squared_error: 3481308495872.0000 - val_loss: 5112470700032.0000 - val_mean_squared_error: 5112470700032.0000\n",
            "Epoch 41/100\n",
            "\u001b[1m28/28\u001b[0m \u001b[32m━━━━━━━━━━━━━━━━━━━━\u001b[0m\u001b[37m\u001b[0m \u001b[1m0s\u001b[0m 4ms/step - loss: 3176934146048.0000 - mean_squared_error: 3176934146048.0000 - val_loss: 5114616610816.0000 - val_mean_squared_error: 5114616610816.0000\n",
            "Epoch 42/100\n",
            "\u001b[1m28/28\u001b[0m \u001b[32m━━━━━━━━━━━━━━━━━━━━\u001b[0m\u001b[37m\u001b[0m \u001b[1m0s\u001b[0m 4ms/step - loss: 3684418191360.0000 - mean_squared_error: 3684418191360.0000 - val_loss: 5305084149760.0000 - val_mean_squared_error: 5305084149760.0000\n",
            "Epoch 43/100\n",
            "\u001b[1m28/28\u001b[0m \u001b[32m━━━━━━━━━━━━━━━━━━━━\u001b[0m\u001b[37m\u001b[0m \u001b[1m0s\u001b[0m 4ms/step - loss: 2981794938880.0000 - mean_squared_error: 2981794938880.0000 - val_loss: 5050255015936.0000 - val_mean_squared_error: 5050255015936.0000\n",
            "Epoch 44/100\n",
            "\u001b[1m28/28\u001b[0m \u001b[32m━━━━━━━━━━━━━━━━━━━━\u001b[0m\u001b[37m\u001b[0m \u001b[1m0s\u001b[0m 4ms/step - loss: 2774244524032.0000 - mean_squared_error: 2774244524032.0000 - val_loss: 5037926907904.0000 - val_mean_squared_error: 5037926907904.0000\n",
            "Epoch 45/100\n",
            "\u001b[1m28/28\u001b[0m \u001b[32m━━━━━━━━━━━━━━━━━━━━\u001b[0m\u001b[37m\u001b[0m \u001b[1m0s\u001b[0m 4ms/step - loss: 3540572176384.0000 - mean_squared_error: 3540572176384.0000 - val_loss: 5319721746432.0000 - val_mean_squared_error: 5319721746432.0000\n",
            "Epoch 46/100\n",
            "\u001b[1m28/28\u001b[0m \u001b[32m━━━━━━━━━━━━━━━━━━━━\u001b[0m\u001b[37m\u001b[0m \u001b[1m0s\u001b[0m 4ms/step - loss: 3189950382080.0000 - mean_squared_error: 3189950382080.0000 - val_loss: 5235569852416.0000 - val_mean_squared_error: 5235569852416.0000\n",
            "Epoch 47/100\n",
            "\u001b[1m28/28\u001b[0m \u001b[32m━━━━━━━━━━━━━━━━━━━━\u001b[0m\u001b[37m\u001b[0m \u001b[1m0s\u001b[0m 4ms/step - loss: 3445412593664.0000 - mean_squared_error: 3445412593664.0000 - val_loss: 5062093438976.0000 - val_mean_squared_error: 5062093438976.0000\n",
            "Epoch 48/100\n",
            "\u001b[1m28/28\u001b[0m \u001b[32m━━━━━━━━━━━━━━━━━━━━\u001b[0m\u001b[37m\u001b[0m \u001b[1m0s\u001b[0m 4ms/step - loss: 2968830083072.0000 - mean_squared_error: 2968830083072.0000 - val_loss: 5051701526528.0000 - val_mean_squared_error: 5051701526528.0000\n",
            "Epoch 49/100\n",
            "\u001b[1m28/28\u001b[0m \u001b[32m━━━━━━━━━━━━━━━━━━━━\u001b[0m\u001b[37m\u001b[0m \u001b[1m0s\u001b[0m 4ms/step - loss: 3370098098176.0000 - mean_squared_error: 3370098098176.0000 - val_loss: 5672005009408.0000 - val_mean_squared_error: 5672005009408.0000\n",
            "Epoch 50/100\n",
            "\u001b[1m28/28\u001b[0m \u001b[32m━━━━━━━━━━━━━━━━━━━━\u001b[0m\u001b[37m\u001b[0m \u001b[1m0s\u001b[0m 5ms/step - loss: 3048437972992.0000 - mean_squared_error: 3048437972992.0000 - val_loss: 5127513571328.0000 - val_mean_squared_error: 5127513571328.0000\n",
            "Epoch 51/100\n",
            "\u001b[1m28/28\u001b[0m \u001b[32m━━━━━━━━━━━━━━━━━━━━\u001b[0m\u001b[37m\u001b[0m \u001b[1m0s\u001b[0m 4ms/step - loss: 3075126329344.0000 - mean_squared_error: 3075126329344.0000 - val_loss: 5254073548800.0000 - val_mean_squared_error: 5254073548800.0000\n",
            "Epoch 52/100\n",
            "\u001b[1m28/28\u001b[0m \u001b[32m━━━━━━━━━━━━━━━━━━━━\u001b[0m\u001b[37m\u001b[0m \u001b[1m0s\u001b[0m 4ms/step - loss: 3197230383104.0000 - mean_squared_error: 3197230383104.0000 - val_loss: 5172386332672.0000 - val_mean_squared_error: 5172386332672.0000\n",
            "Epoch 53/100\n",
            "\u001b[1m28/28\u001b[0m \u001b[32m━━━━━━━━━━━━━━━━━━━━\u001b[0m\u001b[37m\u001b[0m \u001b[1m0s\u001b[0m 4ms/step - loss: 2598755893248.0000 - mean_squared_error: 2598755893248.0000 - val_loss: 5069012992000.0000 - val_mean_squared_error: 5069012992000.0000\n",
            "Epoch 54/100\n",
            "\u001b[1m28/28\u001b[0m \u001b[32m━━━━━━━━━━━━━━━━━━━━\u001b[0m\u001b[37m\u001b[0m \u001b[1m0s\u001b[0m 4ms/step - loss: 3207960199168.0000 - mean_squared_error: 3207960199168.0000 - val_loss: 5174606168064.0000 - val_mean_squared_error: 5174606168064.0000\n",
            "Epoch 55/100\n",
            "\u001b[1m28/28\u001b[0m \u001b[32m━━━━━━━━━━━━━━━━━━━━\u001b[0m\u001b[37m\u001b[0m \u001b[1m0s\u001b[0m 5ms/step - loss: 3336353611776.0000 - mean_squared_error: 3336353611776.0000 - val_loss: 5215827263488.0000 - val_mean_squared_error: 5215827263488.0000\n",
            "Epoch 56/100\n",
            "\u001b[1m28/28\u001b[0m \u001b[32m━━━━━━━━━━━━━━━━━━━━\u001b[0m\u001b[37m\u001b[0m \u001b[1m0s\u001b[0m 6ms/step - loss: 3063382802432.0000 - mean_squared_error: 3063382802432.0000 - val_loss: 5302483156992.0000 - val_mean_squared_error: 5302483156992.0000\n",
            "Epoch 57/100\n",
            "\u001b[1m28/28\u001b[0m \u001b[32m━━━━━━━━━━━━━━━━━━━━\u001b[0m\u001b[37m\u001b[0m \u001b[1m0s\u001b[0m 5ms/step - loss: 2818930114560.0000 - mean_squared_error: 2818930114560.0000 - val_loss: 5103988244480.0000 - val_mean_squared_error: 5103988244480.0000\n",
            "Epoch 58/100\n",
            "\u001b[1m28/28\u001b[0m \u001b[32m━━━━━━━━━━━━━━━━━━━━\u001b[0m\u001b[37m\u001b[0m \u001b[1m0s\u001b[0m 4ms/step - loss: 2703909715968.0000 - mean_squared_error: 2703909715968.0000 - val_loss: 5114418429952.0000 - val_mean_squared_error: 5114418429952.0000\n",
            "Epoch 59/100\n",
            "\u001b[1m28/28\u001b[0m \u001b[32m━━━━━━━━━━━━━━━━━━━━\u001b[0m\u001b[37m\u001b[0m \u001b[1m0s\u001b[0m 4ms/step - loss: 3285489287168.0000 - mean_squared_error: 3285489287168.0000 - val_loss: 5066504273920.0000 - val_mean_squared_error: 5066504273920.0000\n",
            "Epoch 60/100\n",
            "\u001b[1m28/28\u001b[0m \u001b[32m━━━━━━━━━━━━━━━━━━━━\u001b[0m\u001b[37m\u001b[0m \u001b[1m0s\u001b[0m 4ms/step - loss: 2861397704704.0000 - mean_squared_error: 2861397704704.0000 - val_loss: 5152137805824.0000 - val_mean_squared_error: 5152137805824.0000\n",
            "Epoch 61/100\n",
            "\u001b[1m28/28\u001b[0m \u001b[32m━━━━━━━━━━━━━━━━━━━━\u001b[0m\u001b[37m\u001b[0m \u001b[1m0s\u001b[0m 4ms/step - loss: 2936123162624.0000 - mean_squared_error: 2936123162624.0000 - val_loss: 5100390580224.0000 - val_mean_squared_error: 5100390580224.0000\n",
            "Epoch 62/100\n",
            "\u001b[1m28/28\u001b[0m \u001b[32m━━━━━━━━━━━━━━━━━━━━\u001b[0m\u001b[37m\u001b[0m \u001b[1m0s\u001b[0m 4ms/step - loss: 3188331118592.0000 - mean_squared_error: 3188331118592.0000 - val_loss: 5119998951424.0000 - val_mean_squared_error: 5119998951424.0000\n",
            "Epoch 63/100\n",
            "\u001b[1m28/28\u001b[0m \u001b[32m━━━━━━━━━━━━━━━━━━━━\u001b[0m\u001b[37m\u001b[0m \u001b[1m0s\u001b[0m 4ms/step - loss: 3020297863168.0000 - mean_squared_error: 3020297863168.0000 - val_loss: 5051558920192.0000 - val_mean_squared_error: 5051558920192.0000\n",
            "Epoch 64/100\n",
            "\u001b[1m28/28\u001b[0m \u001b[32m━━━━━━━━━━━━━━━━━━━━\u001b[0m\u001b[37m\u001b[0m \u001b[1m0s\u001b[0m 4ms/step - loss: 3066539016192.0000 - mean_squared_error: 3066539016192.0000 - val_loss: 5066350133248.0000 - val_mean_squared_error: 5066350133248.0000\n",
            "Epoch 65/100\n",
            "\u001b[1m28/28\u001b[0m \u001b[32m━━━━━━━━━━━━━━━━━━━━\u001b[0m\u001b[37m\u001b[0m \u001b[1m0s\u001b[0m 4ms/step - loss: 3149808533504.0000 - mean_squared_error: 3149808533504.0000 - val_loss: 5193416048640.0000 - val_mean_squared_error: 5193416048640.0000\n",
            "Epoch 66/100\n",
            "\u001b[1m28/28\u001b[0m \u001b[32m━━━━━━━━━━━━━━━━━━━━\u001b[0m\u001b[37m\u001b[0m \u001b[1m0s\u001b[0m 4ms/step - loss: 3218385666048.0000 - mean_squared_error: 3218385666048.0000 - val_loss: 5253574426624.0000 - val_mean_squared_error: 5253574426624.0000\n",
            "Epoch 67/100\n",
            "\u001b[1m28/28\u001b[0m \u001b[32m━━━━━━━━━━━━━━━━━━━━\u001b[0m\u001b[37m\u001b[0m \u001b[1m0s\u001b[0m 4ms/step - loss: 3368636907520.0000 - mean_squared_error: 3368636907520.0000 - val_loss: 5161695051776.0000 - val_mean_squared_error: 5161695051776.0000\n",
            "Epoch 68/100\n",
            "\u001b[1m28/28\u001b[0m \u001b[32m━━━━━━━━━━━━━━━━━━━━\u001b[0m\u001b[37m\u001b[0m \u001b[1m0s\u001b[0m 5ms/step - loss: 3211074732032.0000 - mean_squared_error: 3211074732032.0000 - val_loss: 5162745724928.0000 - val_mean_squared_error: 5162745724928.0000\n",
            "Epoch 69/100\n",
            "\u001b[1m28/28\u001b[0m \u001b[32m━━━━━━━━━━━━━━━━━━━━\u001b[0m\u001b[37m\u001b[0m \u001b[1m0s\u001b[0m 4ms/step - loss: 2965874933760.0000 - mean_squared_error: 2965874933760.0000 - val_loss: 5111243341824.0000 - val_mean_squared_error: 5111243341824.0000\n",
            "Epoch 70/100\n",
            "\u001b[1m28/28\u001b[0m \u001b[32m━━━━━━━━━━━━━━━━━━━━\u001b[0m\u001b[37m\u001b[0m \u001b[1m0s\u001b[0m 4ms/step - loss: 3028812300288.0000 - mean_squared_error: 3028812300288.0000 - val_loss: 5201941495808.0000 - val_mean_squared_error: 5201941495808.0000\n",
            "Epoch 71/100\n",
            "\u001b[1m28/28\u001b[0m \u001b[32m━━━━━━━━━━━━━━━━━━━━\u001b[0m\u001b[37m\u001b[0m \u001b[1m0s\u001b[0m 4ms/step - loss: 3161355976704.0000 - mean_squared_error: 3161355976704.0000 - val_loss: 5282403450880.0000 - val_mean_squared_error: 5282403450880.0000\n",
            "Epoch 72/100\n",
            "\u001b[1m28/28\u001b[0m \u001b[32m━━━━━━━━━━━━━━━━━━━━\u001b[0m\u001b[37m\u001b[0m \u001b[1m0s\u001b[0m 4ms/step - loss: 2857389260800.0000 - mean_squared_error: 2857389260800.0000 - val_loss: 5544491352064.0000 - val_mean_squared_error: 5544491352064.0000\n",
            "Epoch 73/100\n",
            "\u001b[1m28/28\u001b[0m \u001b[32m━━━━━━━━━━━━━━━━━━━━\u001b[0m\u001b[37m\u001b[0m \u001b[1m0s\u001b[0m 4ms/step - loss: 3128914345984.0000 - mean_squared_error: 3128914345984.0000 - val_loss: 5195978244096.0000 - val_mean_squared_error: 5195978244096.0000\n",
            "Epoch 74/100\n",
            "\u001b[1m28/28\u001b[0m \u001b[32m━━━━━━━━━━━━━━━━━━━━\u001b[0m\u001b[37m\u001b[0m \u001b[1m0s\u001b[0m 4ms/step - loss: 3164486500352.0000 - mean_squared_error: 3164486500352.0000 - val_loss: 5061138186240.0000 - val_mean_squared_error: 5061138186240.0000\n",
            "Epoch 75/100\n",
            "\u001b[1m28/28\u001b[0m \u001b[32m━━━━━━━━━━━━━━━━━━━━\u001b[0m\u001b[37m\u001b[0m \u001b[1m0s\u001b[0m 4ms/step - loss: 3192705777664.0000 - mean_squared_error: 3192705777664.0000 - val_loss: 5173334769664.0000 - val_mean_squared_error: 5173334769664.0000\n",
            "Epoch 76/100\n",
            "\u001b[1m28/28\u001b[0m \u001b[32m━━━━━━━━━━━━━━━━━━━━\u001b[0m\u001b[37m\u001b[0m \u001b[1m0s\u001b[0m 4ms/step - loss: 2705770151936.0000 - mean_squared_error: 2705770151936.0000 - val_loss: 5097720905728.0000 - val_mean_squared_error: 5097720905728.0000\n",
            "Epoch 77/100\n",
            "\u001b[1m28/28\u001b[0m \u001b[32m━━━━━━━━━━━━━━━━━━━━\u001b[0m\u001b[37m\u001b[0m \u001b[1m0s\u001b[0m 4ms/step - loss: 2996001570816.0000 - mean_squared_error: 2996001570816.0000 - val_loss: 5379440246784.0000 - val_mean_squared_error: 5379440246784.0000\n",
            "Epoch 78/100\n",
            "\u001b[1m28/28\u001b[0m \u001b[32m━━━━━━━━━━━━━━━━━━━━\u001b[0m\u001b[37m\u001b[0m \u001b[1m0s\u001b[0m 4ms/step - loss: 3169699495936.0000 - mean_squared_error: 3169699495936.0000 - val_loss: 5187959259136.0000 - val_mean_squared_error: 5187959259136.0000\n",
            "Epoch 79/100\n",
            "\u001b[1m28/28\u001b[0m \u001b[32m━━━━━━━━━━━━━━━━━━━━\u001b[0m\u001b[37m\u001b[0m \u001b[1m0s\u001b[0m 4ms/step - loss: 3175736934400.0000 - mean_squared_error: 3175736934400.0000 - val_loss: 5040049750016.0000 - val_mean_squared_error: 5040049750016.0000\n",
            "Epoch 80/100\n",
            "\u001b[1m28/28\u001b[0m \u001b[32m━━━━━━━━━━━━━━━━━━━━\u001b[0m\u001b[37m\u001b[0m \u001b[1m0s\u001b[0m 4ms/step - loss: 3001492176896.0000 - mean_squared_error: 3001492176896.0000 - val_loss: 5085325164544.0000 - val_mean_squared_error: 5085325164544.0000\n",
            "Epoch 81/100\n",
            "\u001b[1m28/28\u001b[0m \u001b[32m━━━━━━━━━━━━━━━━━━━━\u001b[0m\u001b[37m\u001b[0m \u001b[1m0s\u001b[0m 4ms/step - loss: 3163456274432.0000 - mean_squared_error: 3163456274432.0000 - val_loss: 5281085915136.0000 - val_mean_squared_error: 5281085915136.0000\n",
            "Epoch 82/100\n",
            "\u001b[1m28/28\u001b[0m \u001b[32m━━━━━━━━━━━━━━━━━━━━\u001b[0m\u001b[37m\u001b[0m \u001b[1m0s\u001b[0m 4ms/step - loss: 3255277715456.0000 - mean_squared_error: 3255277715456.0000 - val_loss: 5041574903808.0000 - val_mean_squared_error: 5041574903808.0000\n",
            "Epoch 83/100\n",
            "\u001b[1m28/28\u001b[0m \u001b[32m━━━━━━━━━━━━━━━━━━━━\u001b[0m\u001b[37m\u001b[0m \u001b[1m0s\u001b[0m 4ms/step - loss: 3194628079616.0000 - mean_squared_error: 3194628079616.0000 - val_loss: 5041100423168.0000 - val_mean_squared_error: 5041100423168.0000\n",
            "Epoch 84/100\n",
            "\u001b[1m28/28\u001b[0m \u001b[32m━━━━━━━━━━━━━━━━━━━━\u001b[0m\u001b[37m\u001b[0m \u001b[1m0s\u001b[0m 4ms/step - loss: 3286418849792.0000 - mean_squared_error: 3286418849792.0000 - val_loss: 5551048097792.0000 - val_mean_squared_error: 5551048097792.0000\n",
            "Epoch 85/100\n",
            "\u001b[1m28/28\u001b[0m \u001b[32m━━━━━━━━━━━━━━━━━━━━\u001b[0m\u001b[37m\u001b[0m \u001b[1m0s\u001b[0m 5ms/step - loss: 3077193596928.0000 - mean_squared_error: 3077193596928.0000 - val_loss: 5040968826880.0000 - val_mean_squared_error: 5040968826880.0000\n",
            "Epoch 86/100\n",
            "\u001b[1m28/28\u001b[0m \u001b[32m━━━━━━━━━━━━━━━━━━━━\u001b[0m\u001b[37m\u001b[0m \u001b[1m0s\u001b[0m 5ms/step - loss: 3056663003136.0000 - mean_squared_error: 3056663003136.0000 - val_loss: 5091643359232.0000 - val_mean_squared_error: 5091643359232.0000\n",
            "Epoch 87/100\n",
            "\u001b[1m28/28\u001b[0m \u001b[32m━━━━━━━━━━━━━━━━━━━━\u001b[0m\u001b[37m\u001b[0m \u001b[1m0s\u001b[0m 4ms/step - loss: 3207845117952.0000 - mean_squared_error: 3207845117952.0000 - val_loss: 5055363153920.0000 - val_mean_squared_error: 5055363153920.0000\n",
            "Epoch 88/100\n",
            "\u001b[1m28/28\u001b[0m \u001b[32m━━━━━━━━━━━━━━━━━━━━\u001b[0m\u001b[37m\u001b[0m \u001b[1m0s\u001b[0m 4ms/step - loss: 2917257183232.0000 - mean_squared_error: 2917257183232.0000 - val_loss: 5453231685632.0000 - val_mean_squared_error: 5453231685632.0000\n",
            "Epoch 89/100\n",
            "\u001b[1m28/28\u001b[0m \u001b[32m━━━━━━━━━━━━━━━━━━━━\u001b[0m\u001b[37m\u001b[0m \u001b[1m0s\u001b[0m 6ms/step - loss: 3261830791168.0000 - mean_squared_error: 3261830791168.0000 - val_loss: 5577961897984.0000 - val_mean_squared_error: 5577961897984.0000\n",
            "Epoch 90/100\n",
            "\u001b[1m28/28\u001b[0m \u001b[32m━━━━━━━━━━━━━━━━━━━━\u001b[0m\u001b[37m\u001b[0m \u001b[1m0s\u001b[0m 4ms/step - loss: 2794840915968.0000 - mean_squared_error: 2794840915968.0000 - val_loss: 5297236082688.0000 - val_mean_squared_error: 5297236082688.0000\n",
            "Epoch 91/100\n",
            "\u001b[1m28/28\u001b[0m \u001b[32m━━━━━━━━━━━━━━━━━━━━\u001b[0m\u001b[37m\u001b[0m \u001b[1m0s\u001b[0m 6ms/step - loss: 3279815180288.0000 - mean_squared_error: 3279815180288.0000 - val_loss: 5406147477504.0000 - val_mean_squared_error: 5406147477504.0000\n",
            "Epoch 92/100\n",
            "\u001b[1m28/28\u001b[0m \u001b[32m━━━━━━━━━━━━━━━━━━━━\u001b[0m\u001b[37m\u001b[0m \u001b[1m0s\u001b[0m 6ms/step - loss: 3016204222464.0000 - mean_squared_error: 3016204222464.0000 - val_loss: 5537874313216.0000 - val_mean_squared_error: 5537874313216.0000\n",
            "Epoch 93/100\n",
            "\u001b[1m28/28\u001b[0m \u001b[32m━━━━━━━━━━━━━━━━━━━━\u001b[0m\u001b[37m\u001b[0m \u001b[1m0s\u001b[0m 6ms/step - loss: 3153550639104.0000 - mean_squared_error: 3153550639104.0000 - val_loss: 5047191076864.0000 - val_mean_squared_error: 5047191076864.0000\n",
            "Epoch 94/100\n",
            "\u001b[1m28/28\u001b[0m \u001b[32m━━━━━━━━━━━━━━━━━━━━\u001b[0m\u001b[37m\u001b[0m \u001b[1m0s\u001b[0m 7ms/step - loss: 3001277480960.0000 - mean_squared_error: 3001277480960.0000 - val_loss: 5587683246080.0000 - val_mean_squared_error: 5587683246080.0000\n",
            "Epoch 95/100\n",
            "\u001b[1m28/28\u001b[0m \u001b[32m━━━━━━━━━━━━━━━━━━━━\u001b[0m\u001b[37m\u001b[0m \u001b[1m0s\u001b[0m 7ms/step - loss: 3162225770496.0000 - mean_squared_error: 3162225770496.0000 - val_loss: 5431944019968.0000 - val_mean_squared_error: 5431944019968.0000\n",
            "Epoch 96/100\n",
            "\u001b[1m28/28\u001b[0m \u001b[32m━━━━━━━━━━━━━━━━━━━━\u001b[0m\u001b[37m\u001b[0m \u001b[1m0s\u001b[0m 7ms/step - loss: 3142177783808.0000 - mean_squared_error: 3142177783808.0000 - val_loss: 5057719304192.0000 - val_mean_squared_error: 5057719304192.0000\n",
            "Epoch 97/100\n",
            "\u001b[1m28/28\u001b[0m \u001b[32m━━━━━━━━━━━━━━━━━━━━\u001b[0m\u001b[37m\u001b[0m \u001b[1m0s\u001b[0m 7ms/step - loss: 3030592782336.0000 - mean_squared_error: 3030592782336.0000 - val_loss: 5334622535680.0000 - val_mean_squared_error: 5334622535680.0000\n",
            "Epoch 98/100\n",
            "\u001b[1m28/28\u001b[0m \u001b[32m━━━━━━━━━━━━━━━━━━━━\u001b[0m\u001b[37m\u001b[0m \u001b[1m0s\u001b[0m 7ms/step - loss: 3001348784128.0000 - mean_squared_error: 3001348784128.0000 - val_loss: 5338495975424.0000 - val_mean_squared_error: 5338495975424.0000\n",
            "Epoch 99/100\n",
            "\u001b[1m28/28\u001b[0m \u001b[32m━━━━━━━━━━━━━━━━━━━━\u001b[0m\u001b[37m\u001b[0m \u001b[1m0s\u001b[0m 4ms/step - loss: 3556606476288.0000 - mean_squared_error: 3556606476288.0000 - val_loss: 5135760621568.0000 - val_mean_squared_error: 5135760621568.0000\n",
            "Epoch 100/100\n",
            "\u001b[1m28/28\u001b[0m \u001b[32m━━━━━━━━━━━━━━━━━━━━\u001b[0m\u001b[37m\u001b[0m \u001b[1m0s\u001b[0m 4ms/step - loss: 2936819679232.0000 - mean_squared_error: 2936819679232.0000 - val_loss: 5062870433792.0000 - val_mean_squared_error: 5062870433792.0000\n"
          ]
        }
      ]
    },
    {
      "cell_type": "code",
      "source": [
        "# Calculate the training error\n",
        "train_loss, train_mse = model.evaluate(X_train, y_train)\n",
        "print(f\"Training MSE: {train_mse}\")\n",
        "\n",
        "# Calculate the testing error\n",
        "test_loss, test_mse = model.evaluate(X_test, y_test)\n",
        "print(f\"Testing MSE: {test_mse}\")"
      ],
      "metadata": {
        "colab": {
          "base_uri": "https://localhost:8080/"
        },
        "id": "AUrWk1tGd9w7",
        "outputId": "ca868967-23a3-45d1-f782-efefe31b1fb4"
      },
      "execution_count": 5,
      "outputs": [
        {
          "output_type": "stream",
          "name": "stdout",
          "text": [
            "\u001b[1m14/14\u001b[0m \u001b[32m━━━━━━━━━━━━━━━━━━━━\u001b[0m\u001b[37m\u001b[0m \u001b[1m0s\u001b[0m 5ms/step - loss: 3121634344960.0000 - mean_squared_error: 3121634344960.0000  \n",
            "Training MSE: 3083490033664.0\n",
            "\u001b[1m4/4\u001b[0m \u001b[32m━━━━━━━━━━━━━━━━━━━━\u001b[0m\u001b[37m\u001b[0m \u001b[1m0s\u001b[0m 13ms/step - loss: 5194783391744.0000 - mean_squared_error: 5194783391744.0000\n",
            "Testing MSE: 5062870433792.0\n"
          ]
        }
      ]
    },
    {
      "cell_type": "code",
      "source": [
        "# Save the trained model\n",
        "model.save('housing_price_model.h5')"
      ],
      "metadata": {
        "colab": {
          "base_uri": "https://localhost:8080/"
        },
        "id": "fgvB3l8Odvkq",
        "outputId": "4bcfbf9c-3af0-4882-9aa6-a703c167f83c"
      },
      "execution_count": 4,
      "outputs": [
        {
          "output_type": "stream",
          "name": "stderr",
          "text": [
            "WARNING:absl:You are saving your model as an HDF5 file via `model.save()` or `keras.saving.save_model(model)`. This file format is considered legacy. We recommend using instead the native Keras format, e.g. `model.save('my_model.keras')` or `keras.saving.save_model(model, 'my_model.keras')`. \n"
          ]
        }
      ]
    },
    {
      "cell_type": "code",
      "source": [
        "from tensorflow.keras.models import load_model\n",
        "\n",
        "# Load the saved model\n",
        "loaded_model = load_model('housing_price_model.h5')\n",
        "\n",
        "# Make predictions on the test data\n",
        "predictions = loaded_model.predict(X_test)\n",
        "\n",
        "# Example: Compare predictions with actual values\n",
        "for actual, predicted in zip(y_test[:10], predictions[:10]):\n",
        "    print(f\"Actual: {actual}, Predicted: {predicted[0]}\")"
      ],
      "metadata": {
        "colab": {
          "base_uri": "https://localhost:8080/"
        },
        "id": "yZj5RYWrd2XS",
        "outputId": "fba2fccc-9221-4541-8367-aa3e90aeab69"
      },
      "execution_count": 6,
      "outputs": [
        {
          "output_type": "stream",
          "name": "stderr",
          "text": [
            "WARNING:absl:Compiled the loaded model, but the compiled metrics have yet to be built. `model.compile_metrics` will be empty until you train or evaluate the model.\n"
          ]
        },
        {
          "output_type": "stream",
          "name": "stdout",
          "text": [
            "\u001b[1m4/4\u001b[0m \u001b[32m━━━━━━━━━━━━━━━━━━━━\u001b[0m\u001b[37m\u001b[0m \u001b[1m0s\u001b[0m 20ms/step\n",
            "Actual: 4060000, Predicted: 4824132.0\n",
            "Actual: 6650000, Predicted: 4824132.0\n",
            "Actual: 3710000, Predicted: 4824132.0\n",
            "Actual: 6440000, Predicted: 4824132.0\n",
            "Actual: 2800000, Predicted: 4824132.0\n",
            "Actual: 4900000, Predicted: 4824132.0\n",
            "Actual: 5250000, Predicted: 4824132.0\n",
            "Actual: 4543000, Predicted: 4824132.0\n",
            "Actual: 2450000, Predicted: 4824132.0\n",
            "Actual: 3353000, Predicted: 4824132.0\n"
          ]
        }
      ]
    }
  ]
}